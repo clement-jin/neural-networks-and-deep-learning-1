{
 "cells": [
  {
   "cell_type": "code",
   "execution_count": 2,
   "metadata": {},
   "outputs": [],
   "source": [
    "import mnist_loader"
   ]
  },
  {
   "cell_type": "code",
   "execution_count": 3,
   "metadata": {},
   "outputs": [],
   "source": [
    "training_data, validation_data, test_data = mnist_loader.load_data_wrapper()"
   ]
  },
  {
   "cell_type": "code",
   "execution_count": 4,
   "metadata": {},
   "outputs": [],
   "source": [
    "import my_mnist_network"
   ]
  },
  {
   "cell_type": "code",
   "execution_count": 11,
   "metadata": {},
   "outputs": [
    {
     "data": {
      "text/plain": [
       "'Quadratic Cost'"
      ]
     },
     "execution_count": 11,
     "metadata": {},
     "output_type": "execute_result"
    }
   ],
   "source": [
    "net = my_mnist_network.Network([784, 30, 10])\n",
    "net.cost_function"
   ]
  },
  {
   "cell_type": "code",
   "execution_count": 6,
   "metadata": {},
   "outputs": [
    {
     "ename": "TypeError",
     "evalue": "object of type 'zip' has no len()",
     "output_type": "error",
     "traceback": [
      "\u001b[0;31m---------------------------------------------------------------------------\u001b[0m",
      "\u001b[0;31mTypeError\u001b[0m                                 Traceback (most recent call last)",
      "\u001b[1;32m/Users/clementjin/Library/CloudStorage/OneDrive-MagdalenCollegeSchool/Machine Learning/my-code/neural-networks-and-deep-learning/my-code/testing_handwritten_digits.ipynb Cell 5\u001b[0m line \u001b[0;36m<cell line: 1>\u001b[0;34m()\u001b[0m\n\u001b[0;32m----> <a href='vscode-notebook-cell:/Users/clementjin/Library/CloudStorage/OneDrive-MagdalenCollegeSchool/Machine%20Learning/my-code/neural-networks-and-deep-learning/my-code/testing_handwritten_digits.ipynb#W4sZmlsZQ%3D%3D?line=0'>1</a>\u001b[0m net\u001b[39m.\u001b[39;49mSGD(training_data\u001b[39m=\u001b[39;49mtraining_data, epochs\u001b[39m=\u001b[39;49m\u001b[39m1\u001b[39;49m, mini_batch_size\u001b[39m=\u001b[39;49m\u001b[39m10\u001b[39;49m, eta\u001b[39m=\u001b[39;49m\u001b[39m3.0\u001b[39;49m, test_data\u001b[39m=\u001b[39;49mtest_data)\n",
      "File \u001b[0;32m~/Library/CloudStorage/OneDrive-MagdalenCollegeSchool/Machine Learning/my-code/neural-networks-and-deep-learning/my-code/my_mnist_network.py:23\u001b[0m, in \u001b[0;36mNetwork.SGD\u001b[0;34m(self, training_data, epochs, mini_batch_size, eta, test_data)\u001b[0m\n\u001b[1;32m     20\u001b[0m \u001b[39mif\u001b[39;00m test_data:\n\u001b[1;32m     21\u001b[0m     n_test \u001b[39m=\u001b[39m \u001b[39mlen\u001b[39m(\u001b[39mlist\u001b[39m(test_data))\n\u001b[0;32m---> 23\u001b[0m n \u001b[39m=\u001b[39m \u001b[39mlen\u001b[39;49m(training_data)\n\u001b[1;32m     24\u001b[0m \u001b[39mfor\u001b[39;00m epoch \u001b[39min\u001b[39;00m \u001b[39mrange\u001b[39m(epochs):\n\u001b[1;32m     25\u001b[0m     random\u001b[39m.\u001b[39mshuffle(training_data)\n",
      "\u001b[0;31mTypeError\u001b[0m: object of type 'zip' has no len()"
     ]
    }
   ],
   "source": [
    "net.SGD(training_data=training_data, epochs=1, mini_batch_size=10, eta=3.0, test_data=test_data)"
   ]
  },
  {
   "cell_type": "code",
   "execution_count": null,
   "metadata": {},
   "outputs": [],
   "source": []
  }
 ],
 "metadata": {
  "kernelspec": {
   "display_name": "Python 3",
   "language": "python",
   "name": "python3"
  },
  "language_info": {
   "codemirror_mode": {
    "name": "ipython",
    "version": 3
   },
   "file_extension": ".py",
   "mimetype": "text/x-python",
   "name": "python",
   "nbconvert_exporter": "python",
   "pygments_lexer": "ipython3",
   "version": "3.10.6"
  },
  "orig_nbformat": 4
 },
 "nbformat": 4,
 "nbformat_minor": 2
}
