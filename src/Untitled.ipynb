{
 "cells": [
  {
   "cell_type": "markdown",
   "id": "794feaac",
   "metadata": {},
   "source": [
    "### Train data"
   ]
  },
  {
   "cell_type": "code",
   "execution_count": 27,
   "id": "8ce315cd",
   "metadata": {},
   "outputs": [],
   "source": [
    "import mnist_loader\n",
    "import network"
   ]
  },
  {
   "cell_type": "code",
   "execution_count": 28,
   "id": "88b88a64",
   "metadata": {},
   "outputs": [],
   "source": [
    "training_data, validation_data, test_data = mnist_loader.load_data_wrapper()"
   ]
  },
  {
   "cell_type": "code",
   "execution_count": 31,
   "id": "9600f92c",
   "metadata": {},
   "outputs": [
    {
     "data": {
      "text/plain": [
       "list"
      ]
     },
     "execution_count": 31,
     "metadata": {},
     "output_type": "execute_result"
    }
   ],
   "source": [
    "type(training_data)"
   ]
  },
  {
   "cell_type": "code",
   "execution_count": 30,
   "id": "dfb45e4a",
   "metadata": {},
   "outputs": [],
   "source": [
    "training_data = list(training_data)\n",
    "validation_data = list(validation_data)\n",
    "test_data = list(test_data)"
   ]
  },
  {
   "cell_type": "code",
   "execution_count": 19,
   "id": "969b683c",
   "metadata": {},
   "outputs": [],
   "source": [
    "net = network.Network([784, 30, 10])"
   ]
  },
  {
   "cell_type": "code",
   "execution_count": 23,
   "id": "1343b7dd",
   "metadata": {},
   "outputs": [
    {
     "name": "stdout",
     "output_type": "stream",
     "text": [
      "Epoch 0: 9043 / 10000\n"
     ]
    }
   ],
   "source": [
    "net.SGD(training_data, epochs=1, mini_batch_size=10, eta=3.0, test_data=test_data)"
   ]
  },
  {
   "cell_type": "code",
   "execution_count": 13,
   "id": "b4cc998a",
   "metadata": {},
   "outputs": [],
   "source": [
    "worse_net = network.Network([784, 30, 10])"
   ]
  },
  {
   "cell_type": "code",
   "execution_count": 14,
   "id": "997e2b0c",
   "metadata": {},
   "outputs": [
    {
     "name": "stdout",
     "output_type": "stream",
     "text": [
      "Epoch 0: 1041 / 10000\n",
      "Epoch 1: 958 / 10000\n",
      "Epoch 2: 1180 / 10000\n",
      "Epoch 3: 1287 / 10000\n",
      "Epoch 4: 1402 / 10000\n",
      "Epoch 5: 1486 / 10000\n",
      "Epoch 6: 1569 / 10000\n",
      "Epoch 7: 1637 / 10000\n",
      "Epoch 8: 1712 / 10000\n",
      "Epoch 9: 1775 / 10000\n"
     ]
    }
   ],
   "source": [
    "worse_net.SGD(training_data, epochs=10, mini_batch_size=10, eta=0.001, test_data=test_data)"
   ]
  },
  {
   "cell_type": "code",
   "execution_count": 15,
   "id": "701c2072",
   "metadata": {},
   "outputs": [],
   "source": [
    "no_hidden_net = network.Network([784, 10])"
   ]
  },
  {
   "cell_type": "code",
   "execution_count": 16,
   "id": "89d9e76c",
   "metadata": {},
   "outputs": [
    {
     "name": "stdout",
     "output_type": "stream",
     "text": [
      "Epoch 0: 4744 / 10000\n",
      "Epoch 1: 4759 / 10000\n",
      "Epoch 2: 4811 / 10000\n",
      "Epoch 3: 4816 / 10000\n",
      "Epoch 4: 4818 / 10000\n",
      "Epoch 5: 4805 / 10000\n",
      "Epoch 6: 4832 / 10000\n",
      "Epoch 7: 4884 / 10000\n",
      "Epoch 8: 5692 / 10000\n",
      "Epoch 9: 5711 / 10000\n"
     ]
    }
   ],
   "source": [
    "no_hidden_net.SGD(training_data, epochs=10, mini_batch_size=10, eta=3.0, test_data=test_data)"
   ]
  },
  {
   "cell_type": "code",
   "execution_count": null,
   "id": "5c3271d7",
   "metadata": {},
   "outputs": [],
   "source": []
  }
 ],
 "metadata": {
  "kernelspec": {
   "display_name": "Python 3 (ipykernel)",
   "language": "python",
   "name": "python3"
  },
  "language_info": {
   "codemirror_mode": {
    "name": "ipython",
    "version": 3
   },
   "file_extension": ".py",
   "mimetype": "text/x-python",
   "name": "python",
   "nbconvert_exporter": "python",
   "pygments_lexer": "ipython3",
   "version": "3.10.6"
  }
 },
 "nbformat": 4,
 "nbformat_minor": 5
}
